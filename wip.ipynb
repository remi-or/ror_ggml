{
 "cells": [
  {
   "cell_type": "code",
   "execution_count": 15,
   "metadata": {},
   "outputs": [],
   "source": [
    "src = '''\n",
    "dx0: 2.500000\n",
    "dx1: -3.000000\n",
    "dy: 4.000000\n",
    "m0: 1.500000\n",
    "m1: -3.000000\n",
    "bx: 11 0 8 4 10 11 0 2 10 7 2 12 14 13 1 7 6 11 4 11 0 6 14 3 12 13 6 1 4 3 4 15 \n",
    "by: -120 -40 -88 -65 67 -67 6 127 -16 65 6 126 -2 -78 95 94 112 12 35 59 28 5 -105 -92 26 55 -105 88 -84 -91 123 -77 \n",
    "'''"
   ]
  },
  {
   "cell_type": "code",
   "execution_count": 24,
   "metadata": {},
   "outputs": [
    {
     "name": "stdout",
     "output_type": "stream",
     "text": [
      "260038724.0\n",
      "121746888.0\n",
      "279351728.0\n",
      "165962064.0\n",
      "106011764.0\n",
      "246115368.0\n",
      "116689940.0\n",
      "201963780.0\n"
     ]
    }
   ],
   "source": [
    "msg = [x for x in src.split('\\n') if x]\n",
    "msg = [x.split(': ')[1] for x in msg]\n",
    "dx0, dx1, dy, m0, m1 = map(float, msg[:5])\n",
    "bx = list(map(int, msg[-2].split()))\n",
    "by = list(map(int, msg[-1].split()))\n",
    "\n",
    "acc = 0\n",
    "for i, (x, y) in enumerate(zip(bx, by)):\n",
    "    acc += ((dx0*x+m0)*(y*dy)) ** 2\n",
    "    if (i+1) % 4 == 0:\n",
    "        print(acc)\n",
    "        acc = 0"
   ]
  },
  {
   "cell_type": "code",
   "execution_count": null,
   "metadata": {},
   "outputs": [],
   "source": []
  },
  {
   "cell_type": "code",
   "execution_count": null,
   "metadata": {},
   "outputs": [],
   "source": []
  }
 ],
 "metadata": {
  "kernelspec": {
   "display_name": "Python 3",
   "language": "python",
   "name": "python3"
  },
  "language_info": {
   "codemirror_mode": {
    "name": "ipython",
    "version": 3
   },
   "file_extension": ".py",
   "mimetype": "text/x-python",
   "name": "python",
   "nbconvert_exporter": "python",
   "pygments_lexer": "ipython3",
   "version": "3.11.2"
  },
  "orig_nbformat": 4
 },
 "nbformat": 4,
 "nbformat_minor": 2
}
